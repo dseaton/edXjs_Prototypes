{
 "metadata": {
  "name": "",
  "signature": "sha256:bb199a4f8d939b5a49a46b46ea38adaa336a9f8d633943a08c3829750df32076"
 },
 "nbformat": 3,
 "nbformat_minor": 0,
 "worksheets": [
  {
   "cells": [
    {
     "cell_type": "code",
     "collapsed": false,
     "input": [
      "%%html\n",
      "<!-- Jxg Box -->\n",
      "<div id='jxgbox1' class='jxgbox' style='width:500px; height:350px; float:left; border: solid #1f628d 2px;'></div>        \n",
      "\n",
      "<!-- Menu -->\n",
      "<div id=\"menu\" style=\"width: 170px; float: left;\">\n",
      "      <ul>\n",
      "          Add Forces\n",
      "          <input class=\"btn\" type=\"button\" value=\"Normal\" onClick=\"var vN = addNormal()\">\n",
      "          <input class=\"btn\" type=\"button\" value=\"Gravitational\" onClick=\"addGravitational()\">\n",
      "          <input class=\"btn\" type=\"button\" value=\"Friction\" onClick=\"addFriction()\">\n",
      "          <br></br>\n",
      "\n",
      "          <input class=\"btn\" type=\"button\" value=\"Clear\" onClick=\"clearAll()\">\n",
      "          <input class=\"btn\" type=\"button\" value=\"Console Log State\" onClick=\"fetchState()\">\n",
      "      </ul>\n",
      "</div>"
     ],
     "language": "python",
     "metadata": {},
     "outputs": [
      {
       "html": [
        "<!-- Jxg Box -->\n",
        "<div id='jxgbox1' class='jxgbox' style='width:500px; height:350px; float:left; border: solid #1f628d 2px;'></div>        \n",
        "\n",
        "<!-- Menu -->\n",
        "<div id=\"menu\" style=\"width: 170px; float: left;\">\n",
        "      <ul>\n",
        "          Add Forces\n",
        "          <input class=\"btn\" type=\"button\" value=\"Normal\" onClick=\"var vN = addNormal()\">\n",
        "          <input class=\"btn\" type=\"button\" value=\"Gravitational\" onClick=\"addGravitational()\">\n",
        "          <input class=\"btn\" type=\"button\" value=\"Friction\" onClick=\"addFriction()\">\n",
        "          <br></br>\n",
        "\n",
        "          <input class=\"btn\" type=\"button\" value=\"Clear\" onClick=\"clearAll()\">\n",
        "          <input class=\"btn\" type=\"button\" value=\"Console Log State\" onClick=\"fetchState()\">\n",
        "      </ul>\n",
        "</div>"
       ],
       "metadata": {},
       "output_type": "display_data",
       "text": [
        "<IPython.core.display.HTML at 0x10fce7d10>"
       ]
      }
     ],
     "prompt_number": 31
    },
    {
     "cell_type": "code",
     "collapsed": false,
     "input": [
      "%%javascript\n",
      "// We load the d3.js library from the Web.\n",
      "require.config({paths: {jsx: \"https://cdnjs.cloudflare.com/ajax/libs/jsxgraph/0.98/jsxgraphcore\"}});\n",
      "require([\"jsx\"], function(jsx) {\n",
      "    initBoard();\n",
      "    \n",
      "    function initBoard() {\n",
      "        var bboxlimits = [-10, 10, 10, -10];\n",
      "        var board = JXG.JSXGraph.initBoard('jxgbox1', {boundingbox: [-10, 10, 10, -10], axis:false, showCopyright: false});\n",
      "    \n",
      "        var im = board.create('image',[\"https://studio.edge.edx.org/c4x/DavidsonNext/Ann101/asset/simple_car.png\", [bboxlimits[0],bboxlimits[3]], [(bboxlimits[1]-bboxlimits[0]),1.2*(bboxlimits[3]-bboxlimits[2])] ],{fixed:true});\n",
      "    \n",
      "        var cm = board.create('point',[0,1.5],{size:1,fixed:true,name:'cm',withLabel:false,strokeColor:'pink',fillColor:'pink'})\n",
      "    \n",
      "        return board;\n",
      "    }\n",
      "\n",
      "    // Create a vector providing two points.\n",
      "    function addNormal() {\n",
      "        vN = createVector('N',[3,1],[5,5]); \n",
      "    }\n",
      "    \n",
      "});"
     ],
     "language": "python",
     "metadata": {},
     "outputs": [
      {
       "javascript": [
        "// We load the d3.js library from the Web.\n",
        "require.config({paths: {jsx: \"https://cdnjs.cloudflare.com/ajax/libs/jsxgraph/0.98/jsxgraphcore\"}});\n",
        "require([\"jsx\"], function(jsx) {\n",
        "    initBoard();\n",
        "    \n",
        "    function initBoard() {\n",
        "        var bboxlimits = [-10, 10, 10, -10];\n",
        "        var board = JXG.JSXGraph.initBoard('jxgbox1', {boundingbox: [-10, 10, 10, -10], axis:false, showCopyright: false});\n",
        "    \n",
        "        var im = board.create('image',[\"https://studio.edge.edx.org/c4x/DavidsonNext/Ann101/asset/simple_car.png\", [bboxlimits[0],bboxlimits[3]], [(bboxlimits[1]-bboxlimits[0]),1.2*(bboxlimits[3]-bboxlimits[2])] ],{fixed:true});\n",
        "    \n",
        "        var cm = board.create('point',[0,1.5],{size:1,fixed:true,name:'cm',withLabel:false,strokeColor:'pink',fillColor:'pink'})\n",
        "    \n",
        "        return board;\n",
        "    }\n",
        "\n",
        "    // Create a vector providing two points.\n",
        "    function addNormal() {\n",
        "        vN = createVector('N',[3,1],[5,5]); \n",
        "    }\n",
        "    \n",
        "});"
       ],
       "metadata": {},
       "output_type": "display_data",
       "text": [
        "<IPython.core.display.Javascript at 0x10fce72d0>"
       ]
      }
     ],
     "prompt_number": 32
    },
    {
     "cell_type": "code",
     "collapsed": false,
     "input": [
      "answer = {\"cm\":{\"p1\":[0,1.5]},\"N\":{\"name\":\"N\",\"tail\":[3,1],\"p2\":[5,5],\"length\":4.47213595499958,\"angle\":63.43494882292201},\"g\":{\"name\":\"g\",\"tail\":[0.03174603174603147,1.4519774011299402],\"p2\":[0.03968253968253982,-2.485875706214689],\"length\":3.937861105115565,\"angle\":-89.88452393201636},\"f\":{\"name\":\"f\",\"tail\":[0.03968253968253954,1.4519774011299436],\"p2\":[-3.3333333333333335,1.4689265536723164],\"length\":3.373058456859136,\"angle\":179.7120954154457}}"
     ],
     "language": "python",
     "metadata": {},
     "outputs": [],
     "prompt_number": 90
    },
    {
     "cell_type": "code",
     "collapsed": false,
     "input": [
      "import json\n",
      "class Vector(object):\n",
      "    def __init__(self,name,length,angle,tail):\n",
      "        self.name = name\n",
      "        self.length = length\n",
      "        self.angle = angle\n",
      "        self.tail = tail\n",
      "        return None\n",
      "\n",
      "class gradeVector:\n",
      "    def __init__(self):\n",
      "        return None\n",
      "\n",
      "    def compareLengths(self,v1,v2):\n",
      "        if abs(v1.length-v2.length) < 1.00:\n",
      "            return True\n",
      "        else:\n",
      "            return False\n",
      "\n",
      "    def checkAngle(self,v1,GIVEN,**kwargs):\n",
      "        tol = kwargs.get('tol', 1.0)\n",
      "        if abs(v1.angle - GIVEN) < tol:\n",
      "            return True\n",
      "        else:\n",
      "            return False\n",
      "\n",
      "    def checkCenterMass(self, cm, vectors, **kwargs):\n",
      "        tol = kwargs.get('tol', 0.25)\n",
      "        numFalse = []\n",
      "        for v in vectors:\n",
      "            dist = math.hypot(cm[0] - v.tail[0], cm[1] - v.tail[1])\n",
      "            if dist > tol:\n",
      "                numFalse.append([v.name,dist])\n",
      "\n",
      "        if len(numFalse) == 0:\n",
      "            return True\n",
      "        else:\n",
      "            return False\n",
      "\n",
      "\n",
      "#answer = json.loads(json.loads(ans)['answer'])\n",
      "cm = answer['cm']['p1']\n",
      "vN = Vector(answer['N']['name'],answer['N']['length'],answer['N']['angle'],answer['N']['tail'])\n",
      "vg = Vector(answer['g']['name'],answer['g']['length'],answer['g']['angle'],answer['g']['tail'])\n",
      "vf = Vector(answer['f']['name'],answer['f']['length'],answer['f']['angle'],answer['f']['tail'])\n",
      "\n",
      "if gradeVector().compareLengths(vN, vg) == False:\n",
      "    print {'ok': False, 'msg': 'Normal Force and Gravitational Force should be similar lengths.'}\n",
      "\n",
      "if gradeVector().checkAngle(vN, 90.0, tol=2.0) == False:\n",
      "    print {'ok': False, 'msg': 'The angle of the Normal Force is incorrect. Your angle: %.1f' % vN.angle}\n",
      "\n",
      "if gradeVector().checkAngle(vg, 270.0, tol=2.0) == False:\n",
      "    print {'ok': False, 'msg': 'The angle of the Gravitational Force is incorrect. Your angle: %.1f' % vg.angle}\n",
      "\n",
      "if gradeVector().checkAngle(vf, 180.0, tol=2.0) == False:\n",
      "    print {'ok': False, 'msg': 'The angle of the Frictional Force is incorrect. Your angle: %.1f' % vf.angle}\n",
      "\n",
      "if gradeVector().checkCenterMass(cm,[vN,vg],tol=0.25) == False:\n",
      "    print {'ok': False, 'msg': 'One or more of your vectors do not start from the center of mass.'}\n",
      "\n",
      "    print {'ok': True, 'msg': 'Good job!'}\n"
     ],
     "language": "python",
     "metadata": {},
     "outputs": [
      {
       "output_type": "stream",
       "stream": "stdout",
       "text": [
        "{'msg': 'The angle of the Normal Force is incorrect. Your angle: 63.4', 'ok': False}\n",
        "{'msg': 'The angle of the Gravitational Force is incorrect. Your angle: -89.9', 'ok': False}\n",
        "{'msg': 'One or more of your vectors do not start from the center of mass.', 'ok': False}\n",
        "{'msg': 'Good job!', 'ok': True}\n"
       ]
      }
     ],
     "prompt_number": 94
    },
    {
     "cell_type": "code",
     "collapsed": false,
     "input": [],
     "language": "python",
     "metadata": {},
     "outputs": []
    }
   ],
   "metadata": {}
  }
 ]
}